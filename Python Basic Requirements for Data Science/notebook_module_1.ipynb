{
 "cells": [
  {
   "cell_type": "markdown",
   "metadata": {},
   "source": [
    "## Tipe Data"
   ]
  },
  {
   "cell_type": "code",
   "execution_count": null,
   "metadata": {},
   "outputs": [],
   "source": [
    "namavariable = [isi variable]"
   ]
  },
  {
   "cell_type": "code",
   "execution_count": null,
   "metadata": {},
   "outputs": [],
   "source": [
    "numberValue = 12                                    # Integer\n",
    "stringValue = \"hallo\"                               # String\n",
    "doubleValue = 1.2                                   # Float (double precision in other languages)\n",
    "floatValue = 3.14109203                             # Float\n",
    "myBoolean = True                                    # Boolean\n",
    "\n",
    "myList = [1, \"hallo\", 3.141592653589793, True]      # list\n",
    "myDictionary = {                                    # dictionary\n",
    "    \"name\": \"Apalah Programming\",\n",
    "    \"page\": 2005,\n",
    "    \"author\": \"ACH\"\n",
    "}"
   ]
  },
  {
   "cell_type": "code",
   "execution_count": null,
   "metadata": {},
   "outputs": [],
   "source": [
    "print(numberValue)\n",
    "print(stringValue)\n",
    "print(doubleValue)\n",
    "print(floatValue)\n",
    "print(myList)\n",
    "print(myDictionary)"
   ]
  },
  {
   "cell_type": "markdown",
   "metadata": {},
   "source": [
    "## Variable Lokal dan Global"
   ]
  },
  {
   "cell_type": "code",
   "execution_count": null,
   "metadata": {},
   "outputs": [],
   "source": [
    "import math\n",
    "\n",
    "def findRoot(a, b, c):\n",
    "    # variable lokal\n",
    "    d = math.sqrt(b**2 - 4*a*c)\n",
    "    root1 = -b/(2*a) + d\n",
    "    root2 = -b/(2*a) - d\n",
    "    return root1, root2\n",
    "\n",
    "# variable global\n",
    "value_a = 1\n",
    "value_b = 2\n",
    "value_c = 1\n",
    "\n",
    "akar1, akar2 = findRoot(value_a, value_b, value_c)"
   ]
  },
  {
   "cell_type": "markdown",
   "metadata": {},
   "source": [
    "### Sintaks yang menghasilkan kesalahan atau error"
   ]
  },
  {
   "cell_type": "code",
   "execution_count": null,
   "metadata": {},
   "outputs": [],
   "source": [
    "# menghasilkan error\n",
    "print(d)\n",
    "print(root1)\n",
    "print(root2)"
   ]
  },
  {
   "cell_type": "markdown",
   "metadata": {},
   "source": [
    "### Sintaks yang dapat dieksekusi dengan baik"
   ]
  },
  {
   "cell_type": "code",
   "execution_count": null,
   "metadata": {},
   "outputs": [],
   "source": [
    "print(value_a)\n",
    "print(value_b)\n",
    "print(value_c)\n",
    "\n",
    "print(akar1, akar2)"
   ]
  },
  {
   "cell_type": "markdown",
   "metadata": {},
   "source": [
    "## Conditial Statement"
   ]
  },
  {
   "cell_type": "code",
   "execution_count": null,
   "metadata": {},
   "outputs": [],
   "source": [
    "statementTrue = True\n",
    "statementFalse = False"
   ]
  },
  {
   "cell_type": "code",
   "execution_count": null,
   "metadata": {},
   "outputs": [],
   "source": [
    "if statementTrue:\n",
    "    print(\"hallo world\")\n",
    "else:\n",
    "    print(\"hai dunia\")"
   ]
  },
  {
   "cell_type": "markdown",
   "metadata": {},
   "source": [
    "MENGGUNAKAN IF DALAM 1 LINE"
   ]
  },
  {
   "cell_type": "code",
   "execution_count": null,
   "metadata": {},
   "outputs": [],
   "source": [
    "print(\"hallo world\") if statementTrue else print(\"hai dunia\") "
   ]
  },
  {
   "cell_type": "markdown",
   "metadata": {},
   "source": [
    "MENGGUNAKAN NEGASI NOT"
   ]
  },
  {
   "cell_type": "code",
   "execution_count": null,
   "metadata": {},
   "outputs": [],
   "source": [
    "nameList = ['John', 'Doe', 'Gina', 'Cris']\n",
    "# anda bisa ubah variable myName untuk mencoba if dibawah\n",
    "myName = 'Simon'\n",
    "\n",
    "print(\"your name is not in name list\") if myName not in nameList  else print(myName) "
   ]
  },
  {
   "cell_type": "markdown",
   "metadata": {},
   "source": [
    "## Loop"
   ]
  },
  {
   "cell_type": "markdown",
   "metadata": {},
   "source": [
    "### For Loop"
   ]
  },
  {
   "cell_type": "code",
   "execution_count": null,
   "metadata": {},
   "outputs": [],
   "source": [
    "for i in range(100):\n",
    "    if (i % 3 == 0):\n",
    "        print(\"habis dibagi 3\")\n",
    "    elif (i % 3 == 1):\n",
    "        print(\"jika dibagi 3 bersisa 1\")\n",
    "    else:\n",
    "        print(\"jika dibagi 3 bersisa 2\")"
   ]
  },
  {
   "cell_type": "markdown",
   "metadata": {},
   "source": [
    "FOR DENGAN LIST"
   ]
  },
  {
   "cell_type": "code",
   "execution_count": null,
   "metadata": {},
   "outputs": [],
   "source": [
    "fruits = ['apple', 'manggoes', 'strowberry', 'orange', 'peach']\n",
    "\n",
    "for i in fruits:\n",
    "    print(i)"
   ]
  },
  {
   "cell_type": "markdown",
   "metadata": {},
   "source": [
    "MEMBUAT LIST ITEM DENGAN FOR LOOP"
   ]
  },
  {
   "cell_type": "code",
   "execution_count": null,
   "metadata": {},
   "outputs": [],
   "source": [
    "theList = [i for i in range(10)]\n",
    "\n",
    "print(theList)"
   ]
  },
  {
   "cell_type": "markdown",
   "metadata": {},
   "source": [
    "FOR DENGAN ZIP"
   ]
  },
  {
   "cell_type": "code",
   "execution_count": null,
   "metadata": {},
   "outputs": [],
   "source": [
    "list1 = [1, 2, 3]\n",
    "list2 = ['a', 'b', 'c']\n",
    "\n",
    "for i, j in zip(list1, list2):\n",
    "    print(f\"Number: {i}, Letter: {j}\")\n"
   ]
  },
  {
   "cell_type": "markdown",
   "metadata": {},
   "source": [
    "FOR DENGAN ENUMERATE"
   ]
  },
  {
   "cell_type": "code",
   "execution_count": null,
   "metadata": {},
   "outputs": [],
   "source": [
    "for index, value in enumerate(range(5)):\n",
    "    print(f\"Index: {index}, Value: {value}\")"
   ]
  },
  {
   "cell_type": "markdown",
   "metadata": {},
   "source": [
    "FOR DENGAN ITERTOOLS"
   ]
  },
  {
   "cell_type": "code",
   "execution_count": null,
   "metadata": {},
   "outputs": [],
   "source": [
    "import itertools\n",
    "\n",
    "for i in itertools.count(start=0, step=1):\n",
    "    print(i)\n",
    "    if i >= 4:\n",
    "        break"
   ]
  },
  {
   "cell_type": "markdown",
   "metadata": {},
   "source": [
    "### While Loop"
   ]
  },
  {
   "cell_type": "code",
   "execution_count": null,
   "metadata": {},
   "outputs": [],
   "source": [
    "while True:\n",
    "    num = int(input(\"masukan sebuah bilangan\"))\n",
    "    print(num)\n",
    "    if num == 0:\n",
    "        break"
   ]
  },
  {
   "cell_type": "markdown",
   "metadata": {},
   "source": [
    "## Function"
   ]
  },
  {
   "cell_type": "code",
   "execution_count": null,
   "metadata": {},
   "outputs": [],
   "source": [
    "import math \n",
    "\n",
    "# fungsi yang mengembalikan nilai\n",
    "def findDistance(x1, x2, y1, y2):\n",
    "    distance = math.sqrt((x2 - x1)**2 - (y2 - y1)**2)\n",
    "    return distance\n",
    "\n",
    "\n",
    "print(findDistance(0, 1, 0, 0))"
   ]
  },
  {
   "cell_type": "code",
   "execution_count": null,
   "metadata": {},
   "outputs": [],
   "source": [
    "# fungsi yang tidak mengembalikan nilai\n",
    "def showInfo(name=\"alex cinatra\", jurusan=\"teknologi informasi\"):\n",
    "    print(\"==============================\")\n",
    "    print(f\"nama saya adalah {name}\")\n",
    "    print(f\"jurusan saya adalah {jurusan}\")\n",
    "    print(\"==============================\")\n",
    "    \n",
    "showInfo()\n",
    "\n",
    "# hindari karena membungkus print dengan print\n",
    "# print(showInfo())"
   ]
  },
  {
   "cell_type": "code",
   "execution_count": null,
   "metadata": {},
   "outputs": [],
   "source": [
    "# anonymous function\n",
    "anonFunction = lambda x, y : x*y + x + y\n",
    "\n",
    "x = 10\n",
    "y = 20\n",
    "print(anonFunction(x, y))"
   ]
  },
  {
   "cell_type": "markdown",
   "metadata": {},
   "source": [
    "## Class"
   ]
  },
  {
   "cell_type": "code",
   "execution_count": null,
   "metadata": {},
   "outputs": [],
   "source": [
    "class Vehicle:\n",
    "    def __init__(self, make, model, year):\n",
    "        \"\"\"Inisialisasi atribut\"\"\"\n",
    "        self.make = make\n",
    "        self.model = model\n",
    "        self.year = year\n",
    "\n",
    "    def start_engine(self):\n",
    "        \"\"\"Metode untuk menyalakan mesin\"\"\"\n",
    "        return f\"{self.year} {self.make} {self.model} engine started.\"\n",
    "\n",
    "    def stop_engine(self):\n",
    "        \"\"\"Metode untuk mematikan mesin\"\"\"\n",
    "        return f\"{self.year} {self.make} {self.model} engine stopped.\"\n",
    "\n",
    "    def honk_horn(self):\n",
    "        \"\"\"Metode untuk membunyikan klakson\"\"\"\n",
    "        return f\"{self.year} {self.make} {self.model} goes 'Honk! Honk!'\"\n",
    "\n",
    "# Contoh penggunaan\n",
    "car = Vehicle(\"Toyota\", \"Corolla\", 2021)\n",
    "print(car.start_engine())\n",
    "print(car.honk_horn())\n",
    "print(car.stop_engine())\n"
   ]
  },
  {
   "cell_type": "markdown",
   "metadata": {},
   "source": [
    "CONTOH IMPLEMENTASI OBJECT DAN CLASS KE NEURAL NETWORK"
   ]
  },
  {
   "cell_type": "markdown",
   "metadata": {},
   "source": [
    "![neural network model](https://raw.githubusercontent.com/alexchtst-01/nn1/main/nn%20model.png)"
   ]
  },
  {
   "cell_type": "code",
   "execution_count": 1,
   "metadata": {},
   "outputs": [],
   "source": [
    "# create a predefined nn model\n",
    "import numpy as np\n",
    "\n",
    "class Model_neural:\n",
    "    \n",
    "    def __init__(self, learning_rate=0.01, train_itter=1000):\n",
    "        self.learning_rate = learning_rate\n",
    "        self.train_itter = train_itter\n",
    "        self.W = np.random.rand(1, 3) * 10\n",
    "        self.b = np.random.rand(1) * 10\n",
    "        self.comulative_errros = []\n",
    "    \n",
    "    def ReLu(self, Z):\n",
    "        return np.maximum(0, Z)\n",
    "    \n",
    "    def deriv_ReLu(self, Z):\n",
    "        return (Z > 0) * 1\n",
    "    \n",
    "    # return the prediction value\n",
    "    # just need X and previous function\n",
    "    # x = [\n",
    "        # [x11 x12 x13],\n",
    "        # [x21 x22 x23],\n",
    "        # ....\n",
    "    # ]\n",
    "    def predict(self, X):\n",
    "        Z1 = np.add(np.dot(self.W, X.T), self.b)\n",
    "        a1 = self.ReLu(Z1)\n",
    "        \n",
    "        prediction = a1\n",
    "        \n",
    "        return prediction\n",
    "    \n",
    "    # return the gradient to repair the model\n",
    "    # need the prediction and various function\n",
    "    # x = [\n",
    "        # [x11 x12 x13], x1\n",
    "        # [x21 x22 x23], x2\n",
    "        # ....\n",
    "    # ]\n",
    "    # y = [y1 y2 ...]\n",
    "    def gradient_descent(self, x, y):\n",
    "        a0 = x.T\n",
    "        Z1 = np.dot(self.W, x.T) + self.b\n",
    "        a1 = self.ReLu(Z1)\n",
    "        \n",
    "        Cost = np.square(a1 - y.T)\n",
    "        dCost = 2 * (a1 - y.T)\n",
    "        dW = dCost * self.deriv_ReLu(Z1) * a0\n",
    "        db = (dCost * self.deriv_ReLu(Z1))\n",
    "        \n",
    "        return dW, db\n",
    "    \n",
    "    # just need the dW and db --> we can get from gradient descent function\n",
    "    def update_param(self, dW, db):\n",
    "        self.W -= dW * self.learning_rate\n",
    "        self.b -= db * self.learning_rate\n",
    "    \n",
    "    # need the update param function and decide the size of batch\n",
    "    # let say size of batch is the number of itter that will be the\n",
    "    # limited too, then we do the update for the parameters\n",
    "    def Train(self, X, Y,  size_Y, batch=5):\n",
    "        dW, db = 0, 0\n",
    "        self.comulative_errros = []\n",
    "        if size_Y >= batch:\n",
    "            for itter in range(self.train_itter):\n",
    "                rd_idx = np.random.randint(0, size_Y)\n",
    "                x = X[rd_idx]\n",
    "                y = Y[rd_idx]\n",
    "                dW_, db_ = self.gradient_descent(x, y)\n",
    "                dW += dW_\n",
    "                db += db_\n",
    "                # for every batch we are going to update the parameter\n",
    "                if itter % batch == 0:\n",
    "                    self.update_param(dW=dW, db=db)\n",
    "                    pred_value = self.predict(X)\n",
    "                    print(f\"error(mse): {np.sum(np.square(pred_value - Y))}\")\n",
    "                    print(dW, db)\n",
    "                    self.comulative_errros.append(np.sum(np.square(pred_value - Y)))\n",
    "                    pass\n",
    "        else:\n",
    "            for itter in range(self.train_itter):\n",
    "                rd_idx = np.random.randint(0, size_Y)\n",
    "                x = X[rd_idx]\n",
    "                y = Y[rd_idx]\n",
    "                dW_, db_ = self.gradient_descent(x, y)\n",
    "                dW += dW_\n",
    "                db += db_\n",
    "                self.update_param(dW=dW, db=db)\n",
    "                pred_value = self.predict(X)\n",
    "                print(f\"error(mse): {np.sum(np.square(pred_value - Y))}\")\n",
    "                print(dW, db)\n",
    "                self.comulative_errros.append(np.sum(np.square(pred_value - Y)))"
   ]
  },
  {
   "cell_type": "code",
   "execution_count": 3,
   "metadata": {},
   "outputs": [
    {
     "name": "stdout",
     "output_type": "stream",
     "text": [
      "error(mse): 19788.081235028487\n",
      "[ 90.58631963 181.17263925 271.75895888] [90.58631963]\n",
      "error(mse): 3053.9590486804077\n",
      "[153.39674337 306.79348673 460.1902301 ] [153.39674337]\n",
      "error(mse): 360.275508131008\n",
      "[170.1881441  340.37628819 510.56443229] [170.1881441]\n",
      "error(mse): 3.04\n",
      "[170.1881441  340.37628819 510.56443229] [170.1881441]\n",
      "error(mse): 3.04\n",
      "[170.1881441  340.37628819 510.56443229] [170.1881441]\n",
      "error(mse): 3.04\n",
      "[170.1881441  340.37628819 510.56443229] [170.1881441]\n",
      "error(mse): 3.04\n",
      "[170.1881441  340.37628819 510.56443229] [170.1881441]\n",
      "error(mse): 3.04\n",
      "[170.1881441  340.37628819 510.56443229] [170.1881441]\n",
      "error(mse): 3.04\n",
      "[170.1881441  340.37628819 510.56443229] [170.1881441]\n",
      "error(mse): 3.04\n",
      "[170.1881441  340.37628819 510.56443229] [170.1881441]\n",
      "error(mse): 3.04\n",
      "[170.1881441  340.37628819 510.56443229] [170.1881441]\n",
      "error(mse): 3.04\n",
      "[170.1881441  340.37628819 510.56443229] [170.1881441]\n",
      "error(mse): 3.04\n",
      "[170.1881441  340.37628819 510.56443229] [170.1881441]\n",
      "error(mse): 3.04\n",
      "[170.1881441  340.37628819 510.56443229] [170.1881441]\n",
      "error(mse): 3.04\n",
      "[170.1881441  340.37628819 510.56443229] [170.1881441]\n",
      "error(mse): 3.04\n",
      "[170.1881441  340.37628819 510.56443229] [170.1881441]\n",
      "error(mse): 3.04\n",
      "[170.1881441  340.37628819 510.56443229] [170.1881441]\n",
      "error(mse): 3.04\n",
      "[170.1881441  340.37628819 510.56443229] [170.1881441]\n",
      "error(mse): 3.04\n",
      "[170.1881441  340.37628819 510.56443229] [170.1881441]\n",
      "error(mse): 3.04\n",
      "[170.1881441  340.37628819 510.56443229] [170.1881441]\n",
      "error(mse): 3.04\n",
      "[170.1881441  340.37628819 510.56443229] [170.1881441]\n",
      "error(mse): 3.04\n",
      "[170.1881441  340.37628819 510.56443229] [170.1881441]\n",
      "error(mse): 3.04\n",
      "[170.1881441  340.37628819 510.56443229] [170.1881441]\n",
      "error(mse): 3.04\n",
      "[170.1881441  340.37628819 510.56443229] [170.1881441]\n",
      "error(mse): 3.04\n",
      "[170.1881441  340.37628819 510.56443229] [170.1881441]\n",
      "error(mse): 3.04\n",
      "[170.1881441  340.37628819 510.56443229] [170.1881441]\n",
      "error(mse): 3.04\n",
      "[170.1881441  340.37628819 510.56443229] [170.1881441]\n",
      "error(mse): 3.04\n",
      "[170.1881441  340.37628819 510.56443229] [170.1881441]\n",
      "error(mse): 3.04\n",
      "[170.1881441  340.37628819 510.56443229] [170.1881441]\n",
      "error(mse): 3.04\n",
      "[170.1881441  340.37628819 510.56443229] [170.1881441]\n",
      "error(mse): 3.04\n",
      "[170.1881441  340.37628819 510.56443229] [170.1881441]\n",
      "error(mse): 3.04\n",
      "[170.1881441  340.37628819 510.56443229] [170.1881441]\n",
      "error(mse): 3.04\n",
      "[170.1881441  340.37628819 510.56443229] [170.1881441]\n",
      "error(mse): 3.04\n",
      "[170.1881441  340.37628819 510.56443229] [170.1881441]\n",
      "error(mse): 3.04\n",
      "[170.1881441  340.37628819 510.56443229] [170.1881441]\n",
      "error(mse): 3.04\n",
      "[170.1881441  340.37628819 510.56443229] [170.1881441]\n",
      "error(mse): 3.04\n",
      "[170.1881441  340.37628819 510.56443229] [170.1881441]\n",
      "error(mse): 3.04\n",
      "[170.1881441  340.37628819 510.56443229] [170.1881441]\n",
      "error(mse): 3.04\n",
      "[170.1881441  340.37628819 510.56443229] [170.1881441]\n",
      "error(mse): 3.04\n",
      "[170.1881441  340.37628819 510.56443229] [170.1881441]\n",
      "error(mse): 3.04\n",
      "[170.1881441  340.37628819 510.56443229] [170.1881441]\n",
      "error(mse): 3.04\n",
      "[170.1881441  340.37628819 510.56443229] [170.1881441]\n",
      "error(mse): 3.04\n",
      "[170.1881441  340.37628819 510.56443229] [170.1881441]\n",
      "error(mse): 3.04\n",
      "[170.1881441  340.37628819 510.56443229] [170.1881441]\n",
      "error(mse): 3.04\n",
      "[170.1881441  340.37628819 510.56443229] [170.1881441]\n",
      "error(mse): 3.04\n",
      "[170.1881441  340.37628819 510.56443229] [170.1881441]\n",
      "error(mse): 3.04\n",
      "[170.1881441  340.37628819 510.56443229] [170.1881441]\n",
      "error(mse): 3.04\n",
      "[170.1881441  340.37628819 510.56443229] [170.1881441]\n",
      "error(mse): 3.04\n",
      "[170.1881441  340.37628819 510.56443229] [170.1881441]\n",
      "error(mse): 3.04\n",
      "[170.1881441  340.37628819 510.56443229] [170.1881441]\n",
      "error(mse): 3.04\n",
      "[170.1881441  340.37628819 510.56443229] [170.1881441]\n",
      "error(mse): 3.04\n",
      "[170.1881441  340.37628819 510.56443229] [170.1881441]\n",
      "error(mse): 3.04\n",
      "[170.1881441  340.37628819 510.56443229] [170.1881441]\n",
      "error(mse): 3.04\n",
      "[170.1881441  340.37628819 510.56443229] [170.1881441]\n",
      "error(mse): 3.04\n",
      "[170.1881441  340.37628819 510.56443229] [170.1881441]\n",
      "error(mse): 3.04\n",
      "[170.1881441  340.37628819 510.56443229] [170.1881441]\n",
      "error(mse): 3.04\n",
      "[170.1881441  340.37628819 510.56443229] [170.1881441]\n",
      "error(mse): 3.04\n",
      "[170.1881441  340.37628819 510.56443229] [170.1881441]\n",
      "error(mse): 3.04\n",
      "[170.1881441  340.37628819 510.56443229] [170.1881441]\n",
      "error(mse): 3.04\n",
      "[170.1881441  340.37628819 510.56443229] [170.1881441]\n",
      "error(mse): 3.04\n",
      "[170.1881441  340.37628819 510.56443229] [170.1881441]\n",
      "error(mse): 3.04\n",
      "[170.1881441  340.37628819 510.56443229] [170.1881441]\n",
      "error(mse): 3.04\n",
      "[170.1881441  340.37628819 510.56443229] [170.1881441]\n",
      "error(mse): 3.04\n",
      "[170.1881441  340.37628819 510.56443229] [170.1881441]\n",
      "error(mse): 3.04\n",
      "[170.1881441  340.37628819 510.56443229] [170.1881441]\n",
      "error(mse): 3.04\n",
      "[170.1881441  340.37628819 510.56443229] [170.1881441]\n",
      "error(mse): 3.04\n",
      "[170.1881441  340.37628819 510.56443229] [170.1881441]\n",
      "error(mse): 3.04\n",
      "[170.1881441  340.37628819 510.56443229] [170.1881441]\n",
      "error(mse): 3.04\n",
      "[170.1881441  340.37628819 510.56443229] [170.1881441]\n",
      "error(mse): 3.04\n",
      "[170.1881441  340.37628819 510.56443229] [170.1881441]\n",
      "error(mse): 3.04\n",
      "[170.1881441  340.37628819 510.56443229] [170.1881441]\n",
      "error(mse): 3.04\n",
      "[170.1881441  340.37628819 510.56443229] [170.1881441]\n",
      "error(mse): 3.04\n",
      "[170.1881441  340.37628819 510.56443229] [170.1881441]\n",
      "error(mse): 3.04\n",
      "[170.1881441  340.37628819 510.56443229] [170.1881441]\n",
      "error(mse): 3.04\n",
      "[170.1881441  340.37628819 510.56443229] [170.1881441]\n",
      "error(mse): 3.04\n",
      "[170.1881441  340.37628819 510.56443229] [170.1881441]\n",
      "error(mse): 3.04\n",
      "[170.1881441  340.37628819 510.56443229] [170.1881441]\n",
      "error(mse): 3.04\n",
      "[170.1881441  340.37628819 510.56443229] [170.1881441]\n",
      "error(mse): 3.04\n",
      "[170.1881441  340.37628819 510.56443229] [170.1881441]\n",
      "error(mse): 3.04\n",
      "[170.1881441  340.37628819 510.56443229] [170.1881441]\n",
      "error(mse): 3.04\n",
      "[170.1881441  340.37628819 510.56443229] [170.1881441]\n",
      "error(mse): 3.04\n",
      "[170.1881441  340.37628819 510.56443229] [170.1881441]\n",
      "error(mse): 3.04\n",
      "[170.1881441  340.37628819 510.56443229] [170.1881441]\n",
      "error(mse): 3.04\n",
      "[170.1881441  340.37628819 510.56443229] [170.1881441]\n",
      "error(mse): 3.04\n",
      "[170.1881441  340.37628819 510.56443229] [170.1881441]\n",
      "error(mse): 3.04\n",
      "[170.1881441  340.37628819 510.56443229] [170.1881441]\n",
      "error(mse): 3.04\n",
      "[170.1881441  340.37628819 510.56443229] [170.1881441]\n",
      "error(mse): 3.04\n",
      "[170.1881441  340.37628819 510.56443229] [170.1881441]\n",
      "error(mse): 3.04\n",
      "[170.1881441  340.37628819 510.56443229] [170.1881441]\n",
      "error(mse): 3.04\n",
      "[170.1881441  340.37628819 510.56443229] [170.1881441]\n",
      "error(mse): 3.04\n",
      "[170.1881441  340.37628819 510.56443229] [170.1881441]\n",
      "error(mse): 3.04\n",
      "[170.1881441  340.37628819 510.56443229] [170.1881441]\n",
      "error(mse): 3.04\n",
      "[170.1881441  340.37628819 510.56443229] [170.1881441]\n",
      "error(mse): 3.04\n",
      "[170.1881441  340.37628819 510.56443229] [170.1881441]\n",
      "error(mse): 3.04\n",
      "[170.1881441  340.37628819 510.56443229] [170.1881441]\n",
      "error(mse): 3.04\n",
      "[170.1881441  340.37628819 510.56443229] [170.1881441]\n",
      "error(mse): 3.04\n",
      "[170.1881441  340.37628819 510.56443229] [170.1881441]\n",
      "error(mse): 3.04\n",
      "[170.1881441  340.37628819 510.56443229] [170.1881441]\n",
      "error(mse): 3.04\n",
      "[170.1881441  340.37628819 510.56443229] [170.1881441]\n",
      "error(mse): 3.04\n",
      "[170.1881441  340.37628819 510.56443229] [170.1881441]\n"
     ]
    },
    {
     "data": {
      "image/png": "[encoded data removed]",
      "text/plain": [
       "<Figure size 640x480 with 1 Axes>"
      ]
     },
     "metadata": {},
     "output_type": "display_data"
    }
   ],
   "source": [
    "import matplotlib.pyplot as plt\n",
    "import numpy as np\n",
    "\n",
    "# generate random value for data training\n",
    "test_input = np.array([\n",
    "    [1, 2, 3],\n",
    "    [2, 3, 4],\n",
    "    [3, 4, 5],\n",
    "    [1, 2, 3],\n",
    "    [1, 3, 10],\n",
    "    [10, 2, 0],\n",
    "    [0, 0, 0],\n",
    "    [3, 4, 2],\n",
    "    [0, 1, 3]\n",
    "])\n",
    "\n",
    "test_output = np.array([0.1, 0.2, 0.3, 0.4, 0.5, 0.6, 0.7, 0.8, 1])\n",
    "\n",
    "model = Model_neural(train_itter=100)\n",
    "\n",
    "pred = model.predict(test_input)\n",
    "\n",
    "model.Train(X=test_input, Y=test_output, size_Y=4)\n",
    "\n",
    "error = model.comulative_errros\n",
    "f = open(\"error_record.txt\", 'w')\n",
    "f.write(f\"the error:\\n {error}\")\n",
    "plt.plot(error)\n",
    "plt.savefig(\"error-plot.png\")\n",
    "plt.show()"
   ]
  }
 ],
 "metadata": {
  "kernelspec": {
   "display_name": "Python 3",
   "language": "python",
   "name": "python3"
  },
  "language_info": {
   "codemirror_mode": {
    "name": "ipython",
    "version": 3
   },
   "file_extension": ".py",
   "mimetype": "text/x-python",
   "name": "python",
   "nbconvert_exporter": "python",
   "pygments_lexer": "ipython3",
   "version": "3.11.4"
  }
 },
 "nbformat": 4,
 "nbformat_minor": 2
}
