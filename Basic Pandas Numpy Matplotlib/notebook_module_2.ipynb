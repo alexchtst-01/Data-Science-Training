{
 "cells": [
  {
   "cell_type": "markdown",
   "metadata": {},
   "source": [
    "### DEFINING THE NUMPY ARRAY"
   ]
  },
  {
   "cell_type": "code",
   "execution_count": null,
   "metadata": {},
   "outputs": [],
   "source": [
    "import numpy as np \n",
    "\n",
    "arr = np.array([1, 2, 3], dtype=\"float\")\n",
    "\n",
    "# zeor array\n",
    "zerroArr = np.zeros(shape=(2, 3), dtype=\"float\")\n",
    "\n",
    "# zeor array\n",
    "oneArr = np.ones(shape=(3, 3), dtype=\"float\")\n",
    "\n",
    "print(\"array numpy\")\n",
    "print(arr)\n",
    "\n",
    "print(\"array yang berisi nilai nol\")\n",
    "print(zerroArr)\n",
    "\n",
    "print(\"array yang berisi nilai satu\")\n",
    "print(oneArr)"
   ]
  },
  {
   "cell_type": "markdown",
   "metadata": {},
   "source": [
    "### ACCESSING THE COLUMN AND ROW"
   ]
  },
  {
   "cell_type": "code",
   "execution_count": null,
   "metadata": {},
   "outputs": [],
   "source": [
    "import numpy as np\n",
    "\n",
    "randMatrix = np.random.randint(low=0, high=100, size=(4, 4))\n",
    "\n",
    "# whole matrix\n",
    "print(\"whole matrix\")\n",
    "print(randMatrix)\n",
    "\n",
    "print(\"\\n========================\")\n",
    "\n",
    "# accessing row\n",
    "print(\"first row\")\n",
    "print(randMatrix[0, :])\n",
    "print(\"second row\")\n",
    "print(randMatrix[1, :])\n",
    "print(\"third row\")\n",
    "print(randMatrix[2, :])\n",
    "print(\"fourth row\")\n",
    "print(randMatrix[3, :])\n",
    "\n",
    "print(\"\\n========================\")\n",
    "\n",
    "# accessing column\n",
    "print(\"first column\")\n",
    "print(randMatrix[:, 0])\n",
    "print(\"second column\")\n",
    "print(randMatrix[:, 1])\n",
    "print(\"third column\")\n",
    "print(randMatrix[:, 2])\n",
    "print(\"fourth column\")\n",
    "print(randMatrix[:, 3])\n"
   ]
  },
  {
   "cell_type": "markdown",
   "metadata": {},
   "source": [
    "### UNIT FUNCTION/PICEWISE NUMPY ARRAY"
   ]
  },
  {
   "cell_type": "code",
   "execution_count": null,
   "metadata": {},
   "outputs": [],
   "source": [
    "import numpy as np\n",
    "\n",
    "arr1 = np.array([1, 2, 3])\n",
    "arr2 = np.array([2, 4, 6])\n",
    "\n",
    "# addition picewise operation\n",
    "add = arr1 + arr2\n",
    "\n",
    "# substraction picewise operation\n",
    "subs = arr1 - arr2\n",
    "\n",
    "# devide picewise operation\n",
    "devide = arr1 / arr2\n",
    "\n",
    "# multiplication picewise operation\n",
    "mult = arr1 * arr2\n",
    "\n",
    "print(\"addition\")\n",
    "print(add)\n",
    "print(\"substraction\")\n",
    "print(subs)\n",
    "print(\"devide\")\n",
    "print(devide)\n",
    "print(\"multiplication\")\n",
    "print(mult)"
   ]
  },
  {
   "cell_type": "markdown",
   "metadata": {},
   "source": [
    "np.sin() adalah salah satu implementasi dari unit function yang ada di numpy"
   ]
  },
  {
   "cell_type": "code",
   "execution_count": null,
   "metadata": {},
   "outputs": [],
   "source": [
    "# membuat sinusoidal graph\n",
    "import numpy as np \n",
    "from matplotlib import pyplot as plt \n",
    "\n",
    "# membuat interval t dari 0 sampai 2pi dengan partisi sebanyak 100\n",
    "t = np.linspace(start=0, stop=2*np.pi, num=100)\n",
    "print(f\"ukuran dari t adalah {t.size}\")\n",
    "\n",
    "output = np.sin(t)\n",
    "print(f\"ukuran dari output adalah {output.size}\")\n",
    "\n",
    "plt.plot(t, output)\n",
    "plt.show()"
   ]
  },
  {
   "cell_type": "markdown",
   "metadata": {},
   "source": [
    "### DOT AND CROSS OPERATION"
   ]
  },
  {
   "cell_type": "code",
   "execution_count": null,
   "metadata": {},
   "outputs": [],
   "source": [
    "import numpy as np\n",
    "from matplotlib import pyplot as plt\n",
    "\n",
    "vectorA = np.array([1, 2, 3])\n",
    "vectorB = np.array([2, 2, 3])\n",
    "\n",
    "# dot product\n",
    "print(f\"Dot product: {vectorA.dot(vectorB)}\")\n",
    "\n",
    "# cross product\n",
    "crossProduct = np.cross(vectorA, vectorB)\n",
    "print(f\"Cross product: {crossProduct}\")\n",
    "\n",
    "# Titik origin (0, 0, 0)\n",
    "origin = np.zeros(3)\n",
    "\n",
    "# 3D Plot\n",
    "fig = plt.figure()\n",
    "ax = fig.add_subplot(111, projection='3d')\n",
    "\n",
    "# vektor A (hijau), B (biru), dan cross product (merah)\n",
    "ax.quiver(origin[0], origin[1], origin[2], vectorA[0], vectorA[1], vectorA[2], color='g', label='Vector A')\n",
    "ax.quiver(origin[0], origin[1], origin[2], vectorB[0], vectorB[1], vectorB[2], color='b', label='Vector B')\n",
    "ax.quiver(origin[0], origin[1], origin[2], crossProduct[0], crossProduct[1], crossProduct[2], color='r', label='Cross Product')\n",
    "\n",
    "# Set labels\n",
    "ax.set_xlabel('X axis')\n",
    "ax.set_ylabel('Y axis')\n",
    "ax.set_zlabel('Z axis')\n",
    "\n",
    "max_limit = np.max([vectorA, vectorB, crossProduct]) + 1\n",
    "ax.set_xlim([0, max_limit])\n",
    "ax.set_ylim([0, max_limit])\n",
    "ax.set_zlim([0, max_limit])\n",
    "\n",
    "ax.grid(True)\n",
    "ax.legend()\n",
    "\n",
    "# Tampilkan plot\n",
    "plt.show()"
   ]
  },
  {
   "cell_type": "markdown",
   "metadata": {},
   "source": [
    "### OPERASI LINEAR ALJABAR"
   ]
  },
  {
   "cell_type": "code",
   "execution_count": null,
   "metadata": {},
   "outputs": [],
   "source": [
    "import numpy as np\n",
    "\n",
    "# mencari transpose dari array matrix\n",
    "\n",
    "matrixA = np.array([\n",
    "  [1, 2, 3],\n",
    "  [2, 3, 4],\n",
    "  [5, 6, 7],\n",
    "])\n",
    "print(\"Matrix : \")\n",
    "print(matrixA)\n",
    "print(\"=========================\\n\")\n",
    "\n",
    "\n",
    "print(\"transpose matrix\")\n",
    "print(np.transpose(matrixA), \"\\n\")\n",
    "print(matrixA.T)\n",
    "print(\"=========================\\n\")\n",
    "\n",
    "# mencari determinan dari array matrix\n",
    "print(\"determinan matrix\")\n",
    "print(np.linalg.det(matrixA))\n",
    "print(\"=========================\\n\")\n",
    "\n",
    "# mencari invers dari sebuah matrix\n",
    "print(\"invers matrix\")\n",
    "print(np.linalg.inv(matrixA))"
   ]
  },
  {
   "cell_type": "markdown",
   "metadata": {},
   "source": [
    "### MENGGANTI NILAI DALAM ARRAY NUMPY"
   ]
  },
  {
   "cell_type": "code",
   "execution_count": null,
   "metadata": {},
   "outputs": [],
   "source": [
    "import numpy as np\n",
    "\n",
    "arr = np.np.([\n",
    "  [1, 2, 3],\n",
    "  [4, 5, 6],\n",
    "  [7, 8, 9],\n",
    "], dtype=\"float\")\n",
    "\n",
    "arr[2, 0] = 10"
   ]
  },
  {
   "cell_type": "markdown",
   "metadata": {},
   "source": [
    "### SHAPE DAN SIZE DARI SEBUAH ARRAY"
   ]
  },
  {
   "cell_type": "code",
   "execution_count": null,
   "metadata": {},
   "outputs": [],
   "source": [
    "import numpy as np\n",
    "\n",
    "arr = np.array([\n",
    "    [\n",
    "        [2, 3],\n",
    "        [2, 3],\n",
    "    ],\n",
    "    [\n",
    "        [3, 2],\n",
    "        [3, 1]\n",
    "    ]\n",
    "])\n",
    "\n",
    "\n",
    "arr_temp = arr.reshape(2, 4)\n",
    "\n",
    "flatten_arr = arr.reshape(8, )\n",
    "flatten_arr = arr.reshape(arr.size, )"
   ]
  },
  {
   "cell_type": "markdown",
   "metadata": {},
   "source": [
    "### LOADING DATA CSV WITH PANDAS"
   ]
  },
  {
   "cell_type": "code",
   "execution_count": null,
   "metadata": {},
   "outputs": [],
   "source": [
    "import pandas as pd\n",
    "\n",
    "df = pd.read_csv(\"pokemon-data.csv\")\n",
    "\n",
    "df.head(n=12)"
   ]
  },
  {
   "cell_type": "markdown",
   "metadata": {},
   "source": [
    "### MEMBUAT DATA FRAME OBJECT PANDAS"
   ]
  },
  {
   "cell_type": "code",
   "execution_count": 31,
   "metadata": {},
   "outputs": [],
   "source": [
    "import pandas as pd\n",
    "\n",
    "data = {\n",
    "    'name': [\n",
    "        'Alice', 'Bob', 'Charlie', 'David', 'Eve', 'Frank', 'Grace', 'Hannah',\n",
    "        'Ivy', 'Jack', 'Kathy', 'Leo', 'Mia', 'Nick', 'Olivia', 'Paul', 'Quinn', \n",
    "        'Rachel', 'Steve', 'Tina'\n",
    "    ],\n",
    "    'age': [\n",
    "        12, 13, 19, 14, 15, 18, 17, 20, 16, 21, 22, 14, 15, 19, 12, 16, 17, 18, 20, 21\n",
    "    ],\n",
    "    'city': [\n",
    "        'New York', 'San Francisco', 'Los Angeles', 'Chicago', 'Miami', 'Houston', \n",
    "        'Dallas', 'Phoenix', 'Philadelphia', 'San Antonio', 'San Diego', 'Austin', \n",
    "        'Jacksonville', 'San Jose', 'Indianapolis', 'Columbus', 'Fort Worth', \n",
    "        'Charlotte', 'Detroit', 'Seattle'\n",
    "    ],\n",
    "    'gender': [\n",
    "        'Female', 'Male', 'Male', 'Male', 'Female', 'Male', 'Female', 'Female', \n",
    "        'Female', 'Male', 'Female', 'Male', 'Female', 'Male', 'Female', 'Male', \n",
    "        'Female', 'Female', 'Male', 'Female'\n",
    "    ]\n",
    "}\n",
    "\n",
    "df = pd.DataFrame(data)"
   ]
  },
  {
   "cell_type": "code",
   "execution_count": null,
   "metadata": {},
   "outputs": [],
   "source": [
    "df.head(n=10)"
   ]
  },
  {
   "cell_type": "markdown",
   "metadata": {},
   "source": [
    "### MENYIMPAN DATA"
   ]
  },
  {
   "cell_type": "code",
   "execution_count": null,
   "metadata": {},
   "outputs": [],
   "source": [
    "import pandas as pd\n",
    "\n",
    "data = {\n",
    "    'name': ['Alice', 'Bob', 'Charlie', 'David'],\n",
    "    'age': [12, 13, 19, 14],\n",
    "    'city': ['New York', 'San Francisco', 'Los Angeles', 'Chicago'],\n",
    "    'gender': ['Female', 'Male', 'Male', 'Male'],\n",
    "}\n",
    "\n",
    "df = pd.DataFrame(data)"
   ]
  },
  {
   "cell_type": "code",
   "execution_count": null,
   "metadata": {},
   "outputs": [],
   "source": [
    "# set index ke False supaya tidak menduplikat index nomornya\n",
    "\n",
    "df.to_csv('sample_data.csv', index=False)"
   ]
  },
  {
   "cell_type": "markdown",
   "metadata": {},
   "source": [
    "### DATA OVERVIEW"
   ]
  },
  {
   "cell_type": "code",
   "execution_count": null,
   "metadata": {},
   "outputs": [],
   "source": [
    "import pandas as pd\n",
    "\n",
    "data_frame = pd.read_csv(\"pokemon-data.csv\")\n",
    "\n",
    "print(data_frame.describe())\n",
    "print(data_frame.info())"
   ]
  },
  {
   "cell_type": "markdown",
   "metadata": {},
   "source": [
    "### MENCARI DATA YANG KOSONG"
   ]
  },
  {
   "cell_type": "code",
   "execution_count": null,
   "metadata": {},
   "outputs": [],
   "source": [
    "import pandas as pd\n",
    "data_frame = pd.read_csv(\"pokemon-data.csv\")"
   ]
  },
  {
   "cell_type": "code",
   "execution_count": null,
   "metadata": {},
   "outputs": [],
   "source": [
    "data_frame.isna()"
   ]
  },
  {
   "cell_type": "code",
   "execution_count": null,
   "metadata": {},
   "outputs": [],
   "source": [
    "data_frame.isna().sum()"
   ]
  },
  {
   "cell_type": "code",
   "execution_count": null,
   "metadata": {},
   "outputs": [],
   "source": [
    "data_frame.isnull()"
   ]
  },
  {
   "cell_type": "code",
   "execution_count": null,
   "metadata": {},
   "outputs": [],
   "source": [
    "data_frame.isnull().sum()"
   ]
  },
  {
   "cell_type": "markdown",
   "metadata": {},
   "source": [
    "### HANDLING DATA YANG KOSONG (MENGISI DAN MEMOTONG)"
   ]
  },
  {
   "cell_type": "code",
   "execution_count": 2,
   "metadata": {},
   "outputs": [],
   "source": [
    "import pandas as pd\n",
    "data_frame = pd.read_csv(\"pokemon-data.csv\")"
   ]
  },
  {
   "cell_type": "code",
   "execution_count": null,
   "metadata": {},
   "outputs": [],
   "source": [
    "data_frame.dropna()"
   ]
  },
  {
   "cell_type": "code",
   "execution_count": null,
   "metadata": {},
   "outputs": [],
   "source": [
    "# unutk memotong data sebanyak satu kolum\n",
    "data_frame.dropna(axis=1)"
   ]
  },
  {
   "cell_type": "code",
   "execution_count": null,
   "metadata": {},
   "outputs": [],
   "source": [
    "data_frame.fillna([10])\n",
    "\n",
    "# mengisi data yang hilang dengan specific value\n",
    "data_frame[\"attack\"].fillna(\n",
    "    df[\"attack\"].mean(),\n",
    "    inplace=True\n",
    ")"
   ]
  },
  {
   "cell_type": "markdown",
   "metadata": {},
   "source": [
    "### BOX PLOT"
   ]
  },
  {
   "cell_type": "code",
   "execution_count": null,
   "metadata": {},
   "outputs": [],
   "source": [
    "data_frame.boxplot(column=[\"attack\", \"hp\"])"
   ]
  },
  {
   "cell_type": "code",
   "execution_count": null,
   "metadata": {},
   "outputs": [],
   "source": [
    "import numpy as np \n",
    "from matplotlib import pyplot as plt\n",
    "\n",
    "atck_data = np.random.randint(low=0, high=100, size=(200,))\n",
    "\n",
    "plt.boxplot(atck_data)"
   ]
  },
  {
   "cell_type": "markdown",
   "metadata": {},
   "source": [
    "### HISTOGRAM"
   ]
  },
  {
   "cell_type": "code",
   "execution_count": null,
   "metadata": {},
   "outputs": [],
   "source": [
    "data_frame.hist(\n",
    "  column=[\"attack\", \"hp\"],\n",
    "  bins=5,\n",
    "  figsize=(8, 8)\n",
    ")"
   ]
  },
  {
   "cell_type": "code",
   "execution_count": null,
   "metadata": {},
   "outputs": [],
   "source": [
    "data = np.random.randint(low=-100, high=100, size=(200,))\n",
    "\n",
    "plt.hist(data, bins=30, alpha=0.7, color='blue', edgecolor='black')"
   ]
  },
  {
   "cell_type": "markdown",
   "metadata": {},
   "source": [
    "### SCATTER PLOT"
   ]
  },
  {
   "cell_type": "code",
   "execution_count": null,
   "metadata": {},
   "outputs": [],
   "source": [
    "data_frame.plot(kind='scatter', x='attack', y='hp')"
   ]
  }
 ],
 "metadata": {
  "kernelspec": {
   "display_name": "Python 3",
   "language": "python",
   "name": "python3"
  },
  "language_info": {
   "codemirror_mode": {
    "name": "ipython",
    "version": 3
   },
   "file_extension": ".py",
   "mimetype": "text/x-python",
   "name": "python",
   "nbconvert_exporter": "python",
   "pygments_lexer": "ipython3",
   "version": "3.11.4"
  }
 },
 "nbformat": 4,
 "nbformat_minor": 2
}
