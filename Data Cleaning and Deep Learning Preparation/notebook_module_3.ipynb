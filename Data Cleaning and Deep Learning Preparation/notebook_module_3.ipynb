{
 "cells": [
  {
   "cell_type": "code",
   "execution_count": 1,
   "metadata": {},
   "outputs": [],
   "source": [
    "import pandas as pd\n",
    "\n",
    "import os \n",
    "import shutil\n",
    "\n",
    "from PIL import Image\n",
    "\n",
    "import cv2 as cv"
   ]
  },
  {
   "cell_type": "markdown",
   "metadata": {},
   "source": [
    "### OS"
   ]
  },
  {
   "cell_type": "code",
   "execution_count": null,
   "metadata": {},
   "outputs": [],
   "source": [
    "if not os.path.exists(\"data/data_kucing\"):\n",
    "    os.makedirs(\"data/data_kucing\")\n",
    "    print(\"membuat folder\")"
   ]
  },
  {
   "cell_type": "code",
   "execution_count": null,
   "metadata": {},
   "outputs": [],
   "source": [
    "# membaca isi dari sebuah direktori\n",
    "dir_list = os.listdir(\"./directory\")\n",
    "print(dir_list)"
   ]
  },
  {
   "cell_type": "code",
   "execution_count": null,
   "metadata": {},
   "outputs": [],
   "source": [
    "# membaca sebuah direktori [khusus folder atau dorektori]\n",
    "print(os.path.isdir('/direktori'))\n",
    "\n",
    "print(os.path.isdir('./directory'))"
   ]
  },
  {
   "cell_type": "code",
   "execution_count": null,
   "metadata": {},
   "outputs": [],
   "source": [
    "# membaca sebuah direktori [direktori maupun file]\n",
    "print(os.path.exists('./direktori/readme.md'))\n",
    "\n",
    "print(os.path.exists('./directory/readme.md'))"
   ]
  },
  {
   "cell_type": "code",
   "execution_count": null,
   "metadata": {},
   "outputs": [],
   "source": [
    "# join path manual\n",
    "direktoriTarget = \"folder1\"\n",
    "path = f\"./directory/{direktoriTarget}\"\n",
    "\n",
    "print(os.listdir(path))\n",
    "\n",
    "\n",
    "# join path dengan os.path.joinpath\n",
    "root = \"./directory\"\n",
    "subRoot = \"folder1\"\n",
    "\n",
    "print(os.listdir(os.path.join(root, subRoot)))\n",
    "\n",
    "# perbedaan \n",
    "print(f\"join path manual: {path}\")\n",
    "print(f\"join path dengan os.path.join: {os.path.join(root, subRoot)}\")"
   ]
  },
  {
   "cell_type": "code",
   "execution_count": null,
   "metadata": {},
   "outputs": [],
   "source": [
    "# membaca isi direktori secara menyeluruh (rekursif)\n",
    "\n",
    "for root, dir_name, file_name in os.walk('./directory'):\n",
    "    print(root, dir_name, file_name)"
   ]
  },
  {
   "cell_type": "code",
   "execution_count": 2,
   "metadata": {},
   "outputs": [],
   "source": [
    "# dapat langsung dengan sintaks ini\n",
    "os.makedirs(\"./directory/make-folder\")"
   ]
  },
  {
   "cell_type": "code",
   "execution_count": 10,
   "metadata": {},
   "outputs": [],
   "source": [
    "# atau dengan check existensi folder terlebih dahulu\n",
    "\n",
    "if not os.path.exists(\"./directory/make-folder\"):\n",
    "    os.makedirs('./directory/make-folder')"
   ]
  },
  {
   "cell_type": "code",
   "execution_count": 7,
   "metadata": {},
   "outputs": [],
   "source": [
    "# menghapus direktori kosong\n",
    "if os.path.exists('./directory/make-folder/'):\n",
    "    os.rmdir('./directory/make-folder/')"
   ]
  },
  {
   "cell_type": "code",
   "execution_count": 9,
   "metadata": {},
   "outputs": [],
   "source": [
    "# menghapus direktori yang memiliki isi\n",
    "if os.path.exists('./directory/make-folder/'):\n",
    "    shutil.rmtree('./directory/make-folder/')"
   ]
  },
  {
   "cell_type": "code",
   "execution_count": null,
   "metadata": {},
   "outputs": [],
   "source": [
    "# menghapus sebuah file\n",
    "if os.path.exists('./directory/readme.md'):\n",
    "    os.remove('./directory/readme.md')"
   ]
  },
  {
   "cell_type": "code",
   "execution_count": null,
   "metadata": {},
   "outputs": [],
   "source": [
    "# copy sebuah file\n",
    "\n",
    "source_path = \"./directory/readme.md\"\n",
    "destination_path = \"./directory/folder2/readme.md\"\n",
    "\n",
    "shutil.copy(source_path, destination_path)"
   ]
  },
  {
   "cell_type": "code",
   "execution_count": null,
   "metadata": {},
   "outputs": [],
   "source": [
    "# copy sebuah file\n",
    "\n",
    "shutil.copy(\n",
    "    \"./directory/readme.md\",\n",
    "    \"./directory/folder2/readme.md\"\n",
    ")"
   ]
  },
  {
   "cell_type": "code",
   "execution_count": null,
   "metadata": {},
   "outputs": [],
   "source": [
    "def CleanUpData(rootFile=\"data\"):\n",
    "    images = os.listdir(rootFile)\n",
    "    df = {\n",
    "        \"image_path\": [],\n",
    "        \"target\": [],\n",
    "        \"size\": []\n",
    "    }\n",
    "    \n",
    "    data_kucing = os.path.join(rootFile, \"data_kucing\")\n",
    "    data_anjing = os.path.join(rootFile, \"data_anjing\")\n",
    "    \n",
    "    if not os.path.exists(data_kucing):\n",
    "        os.makedirs(data_kucing)\n",
    "        print(f'membuat folder {data_kucing}')\n",
    "        \n",
    "    if not os.path.exists(data_anjing):\n",
    "        os.makedirs(data_anjing)\n",
    "        print(f'membuat folder {data_anjing}')\n",
    "    \n",
    "    for file_name in images:\n",
    "        images_path = os.path.join(rootFile, file_name)\n",
    "        if 'cat' in file_name:\n",
    "            print('gambar kucing', images_path, Image.open(images_path).size)\n",
    "            df['image_path'].append(images_path)\n",
    "            df['target'].append('cat')\n",
    "            df['size'].append(Image.open(images_path).size)\n",
    "            \n",
    "            shutil.copy(images_path, os.path.join(data_kucing, file_name))\n",
    "        else:\n",
    "            print('gambar anjing', images_path, Image.open(images_path).size)\n",
    "            df['image_path'].append(images_path)\n",
    "            df['target'].append('dog')\n",
    "            df['size'].append(Image.open(images_path).size)\n",
    "            \n",
    "            shutil.copy(images_path, os.path.join(data_anjing, file_name))\n",
    "    \n",
    "    pd.DataFrame(data=df).to_csv(\"data.csv\", index=False)"
   ]
  },
  {
   "cell_type": "code",
   "execution_count": null,
   "metadata": {},
   "outputs": [],
   "source": [
    "CleanUpData()"
   ]
  },
  {
   "cell_type": "markdown",
   "metadata": {},
   "source": [
    "### Open-CV"
   ]
  },
  {
   "cell_type": "code",
   "execution_count": 3,
   "metadata": {},
   "outputs": [],
   "source": [
    "img = cv.imread('python.png')"
   ]
  },
  {
   "cell_type": "code",
   "execution_count": 4,
   "metadata": {},
   "outputs": [],
   "source": [
    "# untuk notebook sangat tidak disarankan coba jalankan di file .py\n",
    "cv.imshow(\"sample image\", img) \n",
    "cv.waitKey(0)\n",
    "cv.destroyAllWindows()"
   ]
  },
  {
   "cell_type": "code",
   "execution_count": 6,
   "metadata": {},
   "outputs": [],
   "source": [
    "# mage rotation (x derajat ccw)\n",
    "(h, w) = img.shape[:2]\n",
    "center = (w // 2, h // 2)\n",
    "matrix = cv.getRotationMatrix2D(center, 45, 1.0)\n",
    "# matrix = cv.getRotationMatrix2D(center, 90, 1.0) # ini adalah 90 derajat\n",
    "rotated_image = cv.warpAffine(img, matrix, (w, h))"
   ]
  },
  {
   "cell_type": "code",
   "execution_count": 7,
   "metadata": {},
   "outputs": [],
   "source": [
    "cv.imshow(\"rotated image\", rotated_image) \n",
    "cv.waitKey(0)\n",
    "cv.destroyAllWindows()"
   ]
  },
  {
   "cell_type": "code",
   "execution_count": 8,
   "metadata": {},
   "outputs": [],
   "source": [
    "# Membalik gambar secara horizontal\n",
    "horizontal_flipped = cv.flip(img, 1)\n",
    "\n",
    "# Membalik gambar secara vertikal\n",
    "vertikal_flipped = cv.flip(img, 0)"
   ]
  },
  {
   "cell_type": "code",
   "execution_count": 9,
   "metadata": {},
   "outputs": [],
   "source": [
    "cv.imshow(\"horizontaly flipped image\", horizontal_flipped) \n",
    "cv.imshow(\"verticaly flipped image\", vertikal_flipped) \n",
    "cv.waitKey(0)\n",
    "cv.destroyAllWindows()"
   ]
  },
  {
   "cell_type": "code",
   "execution_count": 10,
   "metadata": {},
   "outputs": [],
   "source": [
    "# gray scale\n",
    "grayscale_image = cv.cvtColor(img, cv.COLOR_BGR2GRAY)"
   ]
  },
  {
   "cell_type": "code",
   "execution_count": 11,
   "metadata": {},
   "outputs": [],
   "source": [
    "cv.imshow(\"gray image\", grayscale_image) \n",
    "cv.waitKey(0)\n",
    "cv.destroyAllWindows()"
   ]
  },
  {
   "cell_type": "code",
   "execution_count": 13,
   "metadata": {},
   "outputs": [],
   "source": [
    "# image normalization\n",
    "normalized_image = img / 255.0"
   ]
  },
  {
   "cell_type": "code",
   "execution_count": 12,
   "metadata": {},
   "outputs": [],
   "source": [
    "# image resizing\n",
    "resized_image = cv.resize(img, (800, 600), interpolation=cv.INTER_LINEAR)"
   ]
  },
  {
   "cell_type": "code",
   "execution_count": 13,
   "metadata": {},
   "outputs": [],
   "source": [
    "cv.imshow(\"resized image\", resized_image) \n",
    "cv.waitKey(0)\n",
    "cv.destroyAllWindows()"
   ]
  },
  {
   "cell_type": "markdown",
   "metadata": {},
   "source": [
    "### Pillow"
   ]
  },
  {
   "cell_type": "code",
   "execution_count": 30,
   "metadata": {},
   "outputs": [],
   "source": [
    "from PIL import Image\n",
    "\n",
    "# membaca images\n",
    "img = Image.open(\"./python.png\")\n",
    "\n",
    "# RGB color converting\n",
    "rgbImage = img.convert(\"RGB\")\n",
    "\n",
    "# graysclae color converting\n",
    "grayImage = img.convert(\"L\")\n",
    "\n",
    "# image channels splitting\n",
    "channels = rgbImage.split()"
   ]
  },
  {
   "cell_type": "code",
   "execution_count": null,
   "metadata": {},
   "outputs": [],
   "source": [
    "len(channels)"
   ]
  },
  {
   "cell_type": "code",
   "execution_count": null,
   "metadata": {},
   "outputs": [],
   "source": [
    "rgbImage"
   ]
  },
  {
   "cell_type": "code",
   "execution_count": null,
   "metadata": {},
   "outputs": [],
   "source": [
    "grayImage"
   ]
  },
  {
   "cell_type": "code",
   "execution_count": 4,
   "metadata": {},
   "outputs": [],
   "source": [
    "# saving images\n",
    "\n",
    "img.save('saving_imgaes.png')"
   ]
  },
  {
   "cell_type": "code",
   "execution_count": 9,
   "metadata": {},
   "outputs": [],
   "source": [
    "# change the image into array\n",
    "\n",
    "import numpy as np\n",
    "\n",
    "imgArray = np.array(img)\n",
    "rgbArray = np.array(rgbImage)\n",
    "grayArray = np.array(grayImage)"
   ]
  },
  {
   "cell_type": "code",
   "execution_count": null,
   "metadata": {},
   "outputs": [],
   "source": [
    "imgArray.shape"
   ]
  },
  {
   "cell_type": "code",
   "execution_count": null,
   "metadata": {},
   "outputs": [],
   "source": [
    "rgbArray.shape"
   ]
  },
  {
   "cell_type": "code",
   "execution_count": null,
   "metadata": {},
   "outputs": [],
   "source": [
    "grayArray.shape"
   ]
  },
  {
   "cell_type": "code",
   "execution_count": null,
   "metadata": {},
   "outputs": [],
   "source": [
    "# resize image\n",
    "resizedImage = img.resize(\n",
    "    (400, 400),\n",
    "    Image.ANTIALIAS\n",
    ")"
   ]
  },
  {
   "cell_type": "code",
   "execution_count": 17,
   "metadata": {},
   "outputs": [],
   "source": [
    "resizedImage"
   ]
  },
  {
   "cell_type": "code",
   "execution_count": null,
   "metadata": {},
   "outputs": [],
   "source": [
    "import numpy as np\n",
    "\n",
    "resizedArray = np.array(resizedImage)\n",
    "resizedArray.shape"
   ]
  },
  {
   "cell_type": "code",
   "execution_count": null,
   "metadata": {},
   "outputs": [],
   "source": [
    "# image flipping\n",
    "\n",
    "flipImage = img.transpose(Image.FLIP_LEFT_RIGHT)\n",
    "flipImage"
   ]
  },
  {
   "cell_type": "code",
   "execution_count": null,
   "metadata": {},
   "outputs": [],
   "source": [
    "# rotate image\n",
    "\n",
    "rotateImage = img.rotate(45)\n",
    "rotateImage"
   ]
  },
  {
   "cell_type": "code",
   "execution_count": null,
   "metadata": {},
   "outputs": [],
   "source": [
    "# image normalization\n",
    "'''\n",
    "sebelumnya kita sudah memiliki grayscale image\n",
    "sekarang kita mau menormalisasi nilai setiap pixel menjadi 0 atau 1\n",
    "dengan membagi setiap pixel dengan niali maximal yang ada pada pixels \n",
    "image tersebut\n",
    "'''\n",
    "print(f\"maximum value of grayscale image: {normImage.max()}\")\n",
    "normImage = grayArray / grayArray.max()\n",
    "print(\"normalization array: \\n\", normImage)\n",
    "print(f\"maximum value of normalization image: {normImage.max()}\")"
   ]
  },
  {
   "cell_type": "markdown",
   "metadata": {},
   "source": [
    "### One Hot Encode"
   ]
  },
  {
   "cell_type": "code",
   "execution_count": 2,
   "metadata": {},
   "outputs": [],
   "source": [
    "data = pd.read_csv('Iris.csv')"
   ]
  },
  {
   "cell_type": "code",
   "execution_count": null,
   "metadata": {},
   "outputs": [],
   "source": [
    "data = data.drop(columns=['Id'])\n",
    "data"
   ]
  },
  {
   "cell_type": "code",
   "execution_count": 47,
   "metadata": {},
   "outputs": [],
   "source": [
    "features = data.drop(columns=['Species'])\n",
    "target = data['Species']"
   ]
  },
  {
   "cell_type": "code",
   "execution_count": 48,
   "metadata": {},
   "outputs": [],
   "source": [
    "features = features.to_numpy()\n",
    "unique_value = list(target.unique())"
   ]
  },
  {
   "cell_type": "code",
   "execution_count": null,
   "metadata": {},
   "outputs": [],
   "source": [
    "unique_value"
   ]
  },
  {
   "cell_type": "code",
   "execution_count": null,
   "metadata": {},
   "outputs": [],
   "source": [
    "# one hot encoding\n",
    "\n",
    "# ['Iris-setosa' : 0, 'Iris-versicolor' : 1, 'Iris-virginica' : 2]\n",
    "\n",
    "tempTarget = []\n",
    "for i in target:\n",
    "    if i == unique_value[0]:\n",
    "        tempTarget.append([1, 0, 0])\n",
    "    elif i == unique_value[0]:\n",
    "        tempTarget.append([0, 1, 0])\n",
    "    else:\n",
    "        tempTarget.append([0, 0, 1])\n",
    "\n",
    "tempTarget"
   ]
  },
  {
   "cell_type": "code",
   "execution_count": 52,
   "metadata": {},
   "outputs": [],
   "source": [
    "import numpy as np\n",
    "target = np.array(tempTarget, dtype='float')"
   ]
  },
  {
   "cell_type": "code",
   "execution_count": null,
   "metadata": {},
   "outputs": [],
   "source": [
    "features.shape, target.shape"
   ]
  },
  {
   "cell_type": "code",
   "execution_count": null,
   "metadata": {},
   "outputs": [],
   "source": [
    "features[0], target[0]"
   ]
  },
  {
   "cell_type": "markdown",
   "metadata": {},
   "source": [
    "### Intro For TensorFlow"
   ]
  },
  {
   "cell_type": "code",
   "execution_count": null,
   "metadata": {},
   "outputs": [],
   "source": [
    "# !pip install tensorflow"
   ]
  },
  {
   "cell_type": "code",
   "execution_count": 12,
   "metadata": {},
   "outputs": [],
   "source": [
    "import tensorflow as tf\n",
    "from tensorflow.keras import layers, models, losses"
   ]
  },
  {
   "cell_type": "code",
   "execution_count": 13,
   "metadata": {},
   "outputs": [],
   "source": [
    "sample_x = features[0].reshape(1, 4)\n",
    "sample_target = target[0].reshape(1, -1)"
   ]
  },
  {
   "cell_type": "code",
   "execution_count": null,
   "metadata": {},
   "outputs": [],
   "source": [
    "sample_x.shape"
   ]
  },
  {
   "cell_type": "code",
   "execution_count": 30,
   "metadata": {},
   "outputs": [],
   "source": [
    "single_dense = layers.Dense(3, activation='relu')"
   ]
  },
  {
   "cell_type": "code",
   "execution_count": null,
   "metadata": {},
   "outputs": [],
   "source": [
    "sample_prediction = single_dense(sample_x)\n",
    "sample_prediction = np.array(sample_prediction)\n",
    "sample_prediction.shape, sample_target.shape"
   ]
  },
  {
   "cell_type": "code",
   "execution_count": 32,
   "metadata": {},
   "outputs": [],
   "source": [
    "loss_function = losses.CategoricalCrossentropy()"
   ]
  },
  {
   "cell_type": "code",
   "execution_count": null,
   "metadata": {},
   "outputs": [],
   "source": [
    "loss_function(sample_prediction, sample_target)"
   ]
  },
  {
   "cell_type": "markdown",
   "metadata": {},
   "source": [
    "![alt text](nn.png)"
   ]
  },
  {
   "cell_type": "code",
   "execution_count": 62,
   "metadata": {},
   "outputs": [],
   "source": [
    "def myModel(input):\n",
    "    # perhatiin setiap inputan dari result nya\n",
    "    # kalo di tensor ini namanya sequence\n",
    "    firstResult = layers.Dense(5, activation='relu')(input)\n",
    "    secondResult = layers.Dense(5, activation='sigmoid')(firstResult)\n",
    "    thirdResult = layers.Dense(3, activation='softmax')(secondResult)\n",
    "    \n",
    "    return thirdResult"
   ]
  },
  {
   "cell_type": "code",
   "execution_count": 63,
   "metadata": {},
   "outputs": [],
   "source": [
    "result = np.array(myModel(sample_x))"
   ]
  },
  {
   "cell_type": "code",
   "execution_count": null,
   "metadata": {},
   "outputs": [],
   "source": [
    "# ini disebabkan karena acivation dari thirdResult merupakan softmax\n",
    "result.sum()"
   ]
  },
  {
   "cell_type": "code",
   "execution_count": 56,
   "metadata": {},
   "outputs": [],
   "source": [
    "# define dulu inputnya\n",
    "# jadi biar bisa di train nanti, model ini harus punya aturan input yang jelas\n",
    "input_layer = layers.Input(shape=(4,))\n",
    "output_layer = myModel(input_layer)\n",
    "model = models.Model(inputs=input_layer, outputs=output_layer)\n",
    "\n",
    "# ini cara ngetrainnya\n",
    "model.compile(optimizer='adam', \n",
    "              loss='categorical_crossentropy', \n",
    "              metrics=['accuracy'])"
   ]
  },
  {
   "cell_type": "code",
   "execution_count": null,
   "metadata": {},
   "outputs": [],
   "source": [
    "model.fit(features, target, epochs=10, batch_size=1, validation_split=0.5)"
   ]
  },
  {
   "cell_type": "code",
   "execution_count": null,
   "metadata": {},
   "outputs": [],
   "source": [
    "pred = model.predict(features[0].reshape(1, 4))\n",
    "pred\n",
    "# loss, accuracy = model.evaluate(features, target)\n",
    "# print(f'Test Loss: {loss}, Test Accuracy: {accuracy}')"
   ]
  },
  {
   "cell_type": "code",
   "execution_count": null,
   "metadata": {},
   "outputs": [],
   "source": [
    "'''\n",
    "agak ribet kalo pake begini \n",
    "kita bisa make build in object yang udah disediain dari tensor flow nya\n",
    "'''"
   ]
  },
  {
   "cell_type": "code",
   "execution_count": 74,
   "metadata": {},
   "outputs": [],
   "source": [
    "model_ = models.Sequential([\n",
    "    layers.Dense(5, activation='relu', input_shape=(4,)),\n",
    "    layers.Dense(5, activation='sigmoid'),                 \n",
    "    layers.Dense(3, activation='softmax')\n",
    "])"
   ]
  },
  {
   "cell_type": "code",
   "execution_count": 77,
   "metadata": {},
   "outputs": [],
   "source": [
    "model_.compile(optimizer='adam',\n",
    "              loss='categorical_crossentropy',\n",
    "              metrics=['accuracy'])"
   ]
  },
  {
   "cell_type": "code",
   "execution_count": null,
   "metadata": {},
   "outputs": [],
   "source": [
    "model_.fit(features, target, epochs=10, batch_size=1, validation_split=0.5)"
   ]
  }
 ],
 "metadata": {
  "kernelspec": {
   "display_name": "Python 3",
   "language": "python",
   "name": "python3"
  },
  "language_info": {
   "codemirror_mode": {
    "name": "ipython",
    "version": 3
   },
   "file_extension": ".py",
   "mimetype": "text/x-python",
   "name": "python",
   "nbconvert_exporter": "python",
   "pygments_lexer": "ipython3",
   "version": "3.11.4"
  }
 },
 "nbformat": 4,
 "nbformat_minor": 2
}
